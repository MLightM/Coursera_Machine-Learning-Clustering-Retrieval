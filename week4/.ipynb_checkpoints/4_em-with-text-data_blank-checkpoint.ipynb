{
 "cells": [
  {
   "cell_type": "markdown",
   "metadata": {},
   "source": [
    "## Fitting a diagonal covariance Gaussian mixture model to text data\n",
    "\n",
    "In a previous assignment, we explored k-means clustering for a high-dimensional Wikipedia dataset. We can also model this data with a mixture of Gaussians, though with increasing dimension we run into two important issues associated with using a full covariance matrix for each component.\n",
    " * Computational cost becomes prohibitive in high dimensions: score calculations have complexity cubic in the number of dimensions M if the Gaussian has a full covariance matrix.\n",
    " * A model with many parameters require more data: bserve that a full covariance matrix for an M-dimensional Gaussian will have M(M+1)/2 parameters to fit. With the number of parameters growing roughly as the square of the dimension, it may quickly become impossible to find a sufficient amount of data to make good inferences.\n",
    "\n",
    "Both of these issues are avoided if we require the covariance matrix of each component to be diagonal, as then it has only M parameters to fit and the score computation decomposes into M univariate score calculations. Recall from the lecture that the M-step for the full covariance is:\n",
    "\n",
    "\\begin{align*}\n",
    "\\hat{\\Sigma}_k &= \\frac{1}{N_k^{soft}} \\sum_{i=1}^N r_{ik} (x_i-\\hat{\\mu}_k)(x_i - \\hat{\\mu}_k)^T\n",
    "\\end{align*}\n",
    "\n",
    "Note that this is a square matrix with M rows and M columns, and the above equation implies that the (v, w) element is computed by\n",
    "\n",
    "\\begin{align*}\n",
    "\\hat{\\Sigma}_{k, v, w} &= \\frac{1}{N_k^{soft}} \\sum_{i=1}^N r_{ik} (x_{iv}-\\hat{\\mu}_{kv})(x_{iw} - \\hat{\\mu}_{kw})\n",
    "\\end{align*}\n",
    "\n",
    "When we assume that this is a diagonal matrix, then non-diagonal elements are assumed to be zero and we only need to compute each of the M elements along the diagonal independently using the following equation. \n",
    "\n",
    "\\begin{align*}\n",
    "\\hat{\\sigma}^2_{k, v} &= \\hat{\\Sigma}_{k, v, v}  \\\\\n",
    "&= \\frac{1}{N_k^{soft}} \\sum_{i=1}^N r_{ik} (x_{iv}-\\hat{\\mu}_{kv})^2\n",
    "\\end{align*}\n",
    "\n",
    "In this section, we will use an EM implementation to fit a Gaussian mixture model with **diagonal** covariances to a subset of the Wikipedia dataset. The implementation uses the above equation to compute each variance term. \n",
    "\n",
    "We'll begin by importing the dataset and coming up with a useful representation for each article. After running our algorithm on the data, we will explore the output to see whether we can give a meaningful interpretation to the fitted parameters in our model."
   ]
  },
  {
   "cell_type": "markdown",
   "metadata": {},
   "source": [
    "**Note to Amazon EC2 users**: To conserve memory, make sure to stop all the other notebooks before running this notebook."
   ]
  },
  {
   "cell_type": "markdown",
   "metadata": {},
   "source": [
    "## Import necessary packages"
   ]
  },
  {
   "cell_type": "markdown",
   "metadata": {},
   "source": [
    "The following code block will check if you have the correct version of GraphLab Create. Any version later than 1.8.5 will do. To upgrade, read [this page](https://turi.com/download/upgrade-graphlab-create.html)."
   ]
  },
  {
   "cell_type": "code",
   "execution_count": 1,
   "metadata": {
    "collapsed": false
   },
   "outputs": [
    {
     "name": "stderr",
     "output_type": "stream",
     "text": [
      "A newer version of GraphLab Create (v2.1) is available! Your current version is v1.10.1.\n",
      "\n",
      "You can use pip to upgrade the graphlab-create package. For more information see https://dato.com/products/create/upgrade.\n"
     ]
    }
   ],
   "source": [
    "import graphlab\n",
    "\n",
    "'''Check GraphLab Create version'''\n",
    "from distutils.version import StrictVersion\n",
    "assert (StrictVersion(graphlab.version) >= StrictVersion('1.8.5')), 'GraphLab Create must be version 1.8.5 or later.'"
   ]
  },
  {
   "cell_type": "markdown",
   "metadata": {},
   "source": [
    "We also have a Python file containing implementations for several functions that will be used during the course of this assignment."
   ]
  },
  {
   "cell_type": "code",
   "execution_count": 2,
   "metadata": {
    "collapsed": false
   },
   "outputs": [],
   "source": [
    "from em_utilities import *"
   ]
  },
  {
   "cell_type": "markdown",
   "metadata": {},
   "source": [
    "## Load Wikipedia data and extract TF-IDF features"
   ]
  },
  {
   "cell_type": "markdown",
   "metadata": {},
   "source": [
    "Load Wikipedia data and transform each of the first 5000 document into a TF-IDF representation."
   ]
  },
  {
   "cell_type": "code",
   "execution_count": 3,
   "metadata": {
    "collapsed": false
   },
   "outputs": [
    {
     "name": "stdout",
     "output_type": "stream",
     "text": [
      "This non-commercial license of GraphLab Create for academic use is assigned to a0113458@u.nus.edu and will expire on June 18, 2017.\n"
     ]
    },
    {
     "name": "stderr",
     "output_type": "stream",
     "text": [
      "[INFO] graphlab.cython.cy_server: GraphLab Create v1.10.1 started. Logging: C:\\Users\\a0113458\\AppData\\Local\\Temp\\graphlab_server_1470747500.log.0\n"
     ]
    }
   ],
   "source": [
    "wiki = graphlab.SFrame('people_wiki.gl/').head(5000)\n",
    "wiki['tf_idf'] = graphlab.text_analytics.tf_idf(wiki['text'])"
   ]
  },
  {
   "cell_type": "markdown",
   "metadata": {},
   "source": [
    "Using a utility we provide, we will create a sparse matrix representation of the documents. This is the same utility function you used during the previous assignment on k-means with text data."
   ]
  },
  {
   "cell_type": "code",
   "execution_count": 4,
   "metadata": {
    "collapsed": false
   },
   "outputs": [],
   "source": [
    "tf_idf, map_index_to_word = sframe_to_scipy(wiki, 'tf_idf')"
   ]
  },
  {
   "cell_type": "markdown",
   "metadata": {},
   "source": [
    "As in the previous assignment, we will normalize each document's TF-IDF vector to be a unit vector. "
   ]
  },
  {
   "cell_type": "code",
   "execution_count": 34,
   "metadata": {
    "collapsed": false
   },
   "outputs": [],
   "source": [
    "tf_idf = normalize(tf_idf)"
   ]
  },
  {
   "cell_type": "markdown",
   "metadata": {},
   "source": [
    "We can check that the length (Euclidean norm) of each row is now 1.0, as expected."
   ]
  },
  {
   "cell_type": "code",
   "execution_count": 6,
   "metadata": {
    "collapsed": false,
    "scrolled": true
   },
   "outputs": [
    {
     "name": "stdout",
     "output_type": "stream",
     "text": [
      "1.0\n",
      "1.0\n",
      "1.0\n",
      "1.0\n",
      "1.0\n"
     ]
    }
   ],
   "source": [
    "for i in range(5):\n",
    "    doc = tf_idf[i]\n",
    "    print(np.linalg.norm(doc.todense()))"
   ]
  },
  {
   "cell_type": "markdown",
   "metadata": {},
   "source": [
    "## EM in high dimensions\n",
    "\n",
    "EM for high-dimensional data requires some special treatment:\n",
    " * E step and M step must be vectorized as much as possible, as explicit loops are dreadfully slow in Python.\n",
    " * All operations must be cast in terms of sparse matrix operations, to take advantage of computational savings enabled by sparsity of data.\n",
    " * Initially, some words may be entirely absent from a cluster, causing the M step to produce zero mean and variance for those words.  This means any data point with one of those words will have 0 probability of being assigned to that cluster since the cluster allows for no variability (0 variance) around that count being 0 (0 mean). Since there is a small chance for those words to later appear in the cluster, we instead assign a small positive variance (~1e-10). Doing so also prevents numerical overflow.\n",
    " \n",
    "We provide the complete implementation for you in the file `em_utilities.py`. For those who are interested, you can read through the code to see how the sparse matrix implementation differs from the previous assignment. \n",
    "\n",
    "You are expected to answer some quiz questions using the results of clustering."
   ]
  },
  {
   "cell_type": "markdown",
   "metadata": {},
   "source": [
    "**Initializing mean parameters using k-means**\n",
    "\n",
    "Recall from the lectures that EM for Gaussian mixtures is very sensitive to the choice of initial means. With a bad initial set of means, EM may produce clusters that span a large area and are mostly overlapping. To eliminate such bad outcomes, we first produce a suitable set of initial means by using the cluster centers from running k-means.  That is, we first run k-means and then take the final set of means from the converged solution as the initial means in our EM algorithm."
   ]
  },
  {
   "cell_type": "code",
   "execution_count": 7,
   "metadata": {
    "collapsed": false
   },
   "outputs": [],
   "source": [
    "from sklearn.cluster import KMeans\n",
    "\n",
    "np.random.seed(5)\n",
    "num_clusters = 25\n",
    "\n",
    "# Use scikit-learn's k-means to simplify workflow\n",
    "kmeans_model = KMeans(n_clusters=num_clusters, n_init=5, max_iter=400, random_state=1, n_jobs=-1)\n",
    "kmeans_model.fit(tf_idf)\n",
    "centroids, cluster_assignment = kmeans_model.cluster_centers_, kmeans_model.labels_\n",
    "\n",
    "means = [centroid for centroid in centroids]"
   ]
  },
  {
   "cell_type": "markdown",
   "metadata": {},
   "source": [
    "**Initializing cluster weights**\n",
    "\n",
    "We will initialize each cluster weight to be the proportion of documents assigned to that cluster by k-means above."
   ]
  },
  {
   "cell_type": "code",
   "execution_count": 25,
   "metadata": {
    "collapsed": false
   },
   "outputs": [],
   "source": [
    "num_docs = tf_idf.shape[0]\n",
    "weights = []\n",
    "for i in xrange(num_clusters):\n",
    "    # Compute the number of data points assigned to cluster i:\n",
    "    num_assigned = tf_idf[cluster_assignment==i].shape[0] # YOUR CODE HERE\n",
    "    w = float(num_assigned) / num_docs\n",
    "    weights.append(w)"
   ]
  },
  {
   "cell_type": "markdown",
   "metadata": {},
   "source": [
    "**Initializing covariances**\n",
    "\n",
    "To initialize our covariance parameters, we compute $\\hat{\\sigma}_{k, j}^2 = \\sum_{i=1}^{N}(x_{i,j} - \\hat{\\mu}_{k, j})^2$ for each feature $j$.  For features with really tiny variances, we assign 1e-8 instead to prevent numerical instability. We do this computation in a vectorized fashion in the following code block."
   ]
  },
  {
   "cell_type": "code",
   "execution_count": 26,
   "metadata": {
    "collapsed": false
   },
   "outputs": [],
   "source": [
    "covs = []\n",
    "for i in xrange(num_clusters):\n",
    "    member_rows = tf_idf[cluster_assignment==i]\n",
    "    cov = (member_rows.power(2) - 2*member_rows.dot(diag(means[i]))).sum(axis=0).A1 / member_rows.shape[0] \\\n",
    "          + means[i]**2\n",
    "    cov[cov < 1e-8] = 1e-8\n",
    "    covs.append(cov)"
   ]
  },
  {
   "cell_type": "markdown",
   "metadata": {},
   "source": [
    "**Running EM**\n",
    "\n",
    "Now that we have initialized all of our parameters, run EM."
   ]
  },
  {
   "cell_type": "code",
   "execution_count": 111,
   "metadata": {
    "collapsed": false,
    "scrolled": true
   },
   "outputs": [
    {
     "name": "stdout",
     "output_type": "stream",
     "text": [
      "(100282L,)\n"
     ]
    }
   ],
   "source": [
    "out = EM_for_high_dimension(tf_idf, means, covs, weights, cov_smoothing=1e-10)"
   ]
  },
  {
   "cell_type": "code",
   "execution_count": 123,
   "metadata": {
    "collapsed": false
   },
   "outputs": [
    {
     "name": "stdout",
     "output_type": "stream",
     "text": [
      "25 25 25\n"
     ]
    }
   ],
   "source": [
    "print len(means),len(covs),len(weights)"
   ]
  },
  {
   "cell_type": "code",
   "execution_count": 28,
   "metadata": {
    "collapsed": false
   },
   "outputs": [
    {
     "data": {
      "text/plain": [
       "[3855847476.7012835, 4844053202.46348, 4844053202.46348]"
      ]
     },
     "execution_count": 28,
     "metadata": {},
     "output_type": "execute_result"
    }
   ],
   "source": [
    "out['loglik']"
   ]
  },
  {
   "cell_type": "markdown",
   "metadata": {},
   "source": [
    "## Interpret clustering results"
   ]
  },
  {
   "cell_type": "markdown",
   "metadata": {},
   "source": [
    "In contrast to k-means, EM is able to explicitly model clusters of varying sizes and proportions. The relative magnitude of variances in the word dimensions tell us much about the nature of the clusters.\n",
    "\n",
    "Write yourself a cluster visualizer as follows.  Examining each cluster's mean vector, list the 5 words with the largest mean values (5 most common words in the cluster). For each word, also include the associated variance parameter (diagonal element of the covariance matrix). \n",
    "\n",
    "A sample output may be:\n",
    "```\n",
    "==========================================================\n",
    "Cluster 0: Largest mean parameters in cluster \n",
    "\n",
    "Word        Mean        Variance    \n",
    "football    1.08e-01    8.64e-03\n",
    "season      5.80e-02    2.93e-03\n",
    "club        4.48e-02    1.99e-03\n",
    "league      3.94e-02    1.08e-03\n",
    "played      3.83e-02    8.45e-04\n",
    "...\n",
    "```"
   ]
  },
  {
   "cell_type": "code",
   "execution_count": 97,
   "metadata": {
    "collapsed": false
   },
   "outputs": [],
   "source": [
    "sorted_word_ids = np.argsort(tf_idf[cluster_assignment==0])[::-1]\n",
    "#print sorted_word_ids,tf_idf,type(tf_idf),np.argsort(tf_idf[cluster_assignment==1].data[0:10])[::-1],tf_idf[cluster_assignment==1].data[0:10]"
   ]
  },
  {
   "cell_type": "code",
   "execution_count": 100,
   "metadata": {
    "collapsed": true
   },
   "outputs": [],
   "source": [
    "# Fill in the blanks\n",
    "def visualize_EM_clusters(tf_idf, means, covs, map_index_to_word):\n",
    "    print('')\n",
    "    print('==========================================================')\n",
    "\n",
    "    num_clusters = len(means)\n",
    "    for c in xrange(num_clusters):\n",
    "        print('Cluster {0:d}: Largest mean parameters in cluster '.format(c))\n",
    "        print('\\n{0: <12}{1: <12}{2: <12}'.format('Word', 'Mean', 'Variance'))\n",
    "        \n",
    "        # The k'th element of sorted_word_ids should be the index of the word \n",
    "        # that has the k'th-largest value in the cluster mean. Hint: Use np.argsort().\n",
    "        sorted_word_ids = tf_idf[cluster_assignment==c].sorted_indices().indices  # YOUR CODE HERE\n",
    "\n",
    "        for i in sorted_word_ids[:5]:\n",
    "            print '{0: <12}{1:<10.2e}{2:10.2e}'.format(map_index_to_word['category'][i], \n",
    "                                                       means[c][i],\n",
    "                                                       covs[c][i])\n",
    "        print '\\n=========================================================='"
   ]
  },
  {
   "cell_type": "code",
   "execution_count": 101,
   "metadata": {
    "collapsed": false
   },
   "outputs": [
    {
     "name": "stdout",
     "output_type": "stream",
     "text": [
      "\n",
      "==========================================================\n",
      "Cluster 0: Largest mean parameters in cluster \n",
      "\n",
      "Word        Mean        Variance    \n",
      "bodieschernushenko2.83e-04    2.04e-05\n",
      "2013chernushenko2.83e-04    2.04e-05\n",
      "chernushenko1.98e-03    9.99e-04\n",
      "practicesfrom2.83e-04    2.04e-05\n",
      "6766        2.83e-04    2.04e-05\n",
      "\n",
      "==========================================================\n",
      "Cluster 1: Largest mean parameters in cluster \n",
      "\n",
      "Word        Mean        Variance    \n",
      "subcultures 9.66e-04    1.18e-04\n",
      "joerg       9.66e-04    1.18e-04\n",
      "84minute    9.66e-04    1.18e-04\n",
      "designerartist9.66e-04    1.18e-04\n",
      "steineck    3.86e-03    1.89e-03\n",
      "\n",
      "==========================================================\n",
      "Cluster 2: Largest mean parameters in cluster \n",
      "\n",
      "Word        Mean        Variance    \n",
      "galeras     8.09e-04    1.03e-04\n",
      "rouxs       8.09e-04    1.03e-04\n",
      "nonnis      8.09e-04    1.03e-04\n",
      "frescoes    8.09e-04    1.03e-04\n",
      "konex       8.09e-04    1.03e-04\n",
      "\n",
      "==========================================================\n",
      "Cluster 3: Largest mean parameters in cluster \n",
      "\n",
      "Word        Mean        Variance    \n",
      "tripleteamed1.67e-03    1.82e-04\n",
      "696         1.67e-03    1.82e-04\n",
      "razzledazzle1.67e-03    1.82e-04\n",
      "wlbill      1.67e-03    1.82e-04\n",
      "696for954   1.67e-03    1.82e-04\n",
      "\n",
      "==========================================================\n",
      "Cluster 4: Largest mean parameters in cluster \n",
      "\n",
      "Word        Mean        Variance    \n",
      "uke         1.38e-03    9.33e-05\n",
      "toiling     1.38e-03    9.33e-05\n",
      "offensiverich1.38e-03    9.33e-05\n",
      "coaching4   1.38e-03    9.33e-05\n",
      "bucyk       1.38e-03    9.33e-05\n",
      "\n",
      "==========================================================\n",
      "Cluster 5: Largest mean parameters in cluster \n",
      "\n",
      "Word        Mean        Variance    \n",
      "emineth     1.38e-03    1.99e-04\n",
      "beltway     1.38e-03    1.99e-04\n",
      "6925        1.38e-03    1.99e-04\n",
      "marginin    1.38e-03    1.99e-04\n",
      "distracted  1.38e-03    1.99e-04\n",
      "\n",
      "==========================================================\n",
      "Cluster 6: Largest mean parameters in cluster \n",
      "\n",
      "Word        Mean        Variance    \n",
      "americanfrench3.13e-04    3.83e-05\n",
      "clowning    3.13e-04    3.83e-05\n",
      "kominskycrumbcrumb3.13e-04    3.83e-05\n",
      "nameafter   3.13e-04    3.83e-05\n",
      "sauve       3.13e-04    3.83e-05\n",
      "\n",
      "==========================================================\n",
      "Cluster 7: Largest mean parameters in cluster \n",
      "\n",
      "Word        Mean        Variance    \n",
      "pointtopoint9.12e-04    1.16e-04\n",
      "20538       9.12e-04    1.16e-04\n",
      "inoa        9.12e-04    1.16e-04\n",
      "soreness    9.12e-04    1.16e-04\n",
      "khannouchi  1.82e-03    4.65e-04\n",
      "\n",
      "==========================================================\n",
      "Cluster 8: Largest mean parameters in cluster \n",
      "\n",
      "Word        Mean        Variance    \n",
      "zelazny     1.06e-04    9.37e-06\n",
      "fantasticrottensteiner1.06e-04    9.37e-06\n",
      "apek        1.06e-04    9.37e-06\n",
      "stanislaw   2.12e-04    3.75e-05\n",
      "kobo        1.06e-04    9.37e-06\n",
      "\n",
      "==========================================================\n",
      "Cluster 9: Largest mean parameters in cluster \n",
      "\n",
      "Word        Mean        Variance    \n",
      "stines      1.48e-03    1.83e-04\n",
      "cyberbully  1.48e-03    1.83e-04\n",
      "lovesick    1.48e-03    1.83e-04\n",
      "musso       1.48e-03    1.83e-04\n",
      "crackle     1.48e-03    1.83e-04\n",
      "\n",
      "==========================================================\n",
      "Cluster 10: Largest mean parameters in cluster \n",
      "\n",
      "Word        Mean        Variance    \n",
      "forwardwoolfolk1.40e-03    1.91e-04\n",
      "riverhounds 1.40e-03    1.91e-04\n",
      "woolfolk    5.62e-03    3.06e-03\n",
      "silverbacks 4.00e-03    8.65e-04\n",
      "nscaa       2.64e-03    3.35e-04\n",
      "\n",
      "==========================================================\n",
      "Cluster 11: Largest mean parameters in cluster \n",
      "\n",
      "Word        Mean        Variance    \n",
      "lordshe     3.51e-04    3.22e-05\n",
      "8595gueterbock3.51e-04    3.22e-05\n",
      "hillingdon  3.51e-04    3.22e-05\n",
      "fitzhardinge3.51e-04    3.22e-05\n",
      "wimpey      3.51e-04    3.22e-05\n",
      "\n",
      "==========================================================\n",
      "Cluster 12: Largest mean parameters in cluster \n",
      "\n",
      "Word        Mean        Variance    \n",
      "diethe      1.08e-03    1.53e-04\n",
      "veganpalooza1.08e-03    1.53e-04\n",
      "waterville  1.08e-03    1.53e-04\n",
      "prussack    1.08e-03    1.53e-04\n",
      "1115        9.89e-04    1.29e-04\n",
      "\n",
      "==========================================================\n",
      "Cluster 13: Largest mean parameters in cluster \n",
      "\n",
      "Word        Mean        Variance    \n",
      "perceiving  4.77e-04    5.32e-05\n",
      "caruths     4.77e-04    5.32e-05\n",
      "conceptualizing4.77e-04    5.32e-05\n",
      "wordsworth  4.77e-04    5.32e-05\n",
      "deborash    4.77e-04    5.32e-05\n",
      "\n",
      "==========================================================\n",
      "Cluster 14: Largest mean parameters in cluster \n",
      "\n",
      "Word        Mean        Variance    \n",
      "angelsother 4.71e-04    5.31e-05\n",
      "catweazle   4.71e-04    5.31e-05\n",
      "hardcastles 4.71e-04    5.31e-05\n",
      "caseyin     4.71e-04    5.31e-05\n",
      "bolant      4.71e-04    5.31e-05\n",
      "\n",
      "==========================================================\n",
      "Cluster 15: Largest mean parameters in cluster \n",
      "\n",
      "Word        Mean        Variance    \n",
      "holger      3.07e-04    3.91e-05\n",
      "gutsy       3.07e-04    3.91e-05\n",
      "germanyover 3.07e-04    3.91e-05\n",
      "bluesgospel 3.07e-04    3.91e-05\n",
      "harpdog     6.14e-04    1.56e-04\n",
      "\n",
      "==========================================================\n",
      "Cluster 16: Largest mean parameters in cluster \n",
      "\n",
      "Word        Mean        Variance    \n",
      "pickjacobson8.50e-04    6.00e-05\n",
      "fivefoot    8.50e-04    6.00e-05\n",
      "playoffjacobson8.50e-04    6.00e-05\n",
      "wgchsbc     8.50e-04    6.00e-05\n",
      "swede       8.50e-04    6.00e-05\n",
      "\n",
      "==========================================================\n",
      "Cluster 17: Largest mean parameters in cluster \n",
      "\n",
      "Word        Mean        Variance    \n",
      "burnet      1.01e-03    1.30e-04\n",
      "wellfounded 1.01e-03    1.30e-04\n",
      "expressgoldring1.01e-03    1.30e-04\n",
      "goldring    4.04e-03    2.07e-03\n",
      "currentaffairs1.01e-03    1.30e-04\n",
      "\n",
      "==========================================================\n",
      "Cluster 18: Largest mean parameters in cluster \n",
      "\n",
      "Word        Mean        Variance    \n",
      "dunnes      1.16e-03    1.11e-04\n",
      "agonising   1.16e-03    1.11e-04\n",
      "1953called  1.16e-03    1.11e-04\n",
      "laoishe     1.16e-03    1.11e-04\n",
      "1950swith   1.16e-03    1.11e-04\n",
      "\n",
      "==========================================================\n",
      "Cluster 19: Largest mean parameters in cluster \n",
      "\n",
      "Word        Mean        Variance    \n",
      "ceiron      4.14e-04    4.33e-05\n",
      "pointsthomas4.14e-04    4.33e-05\n",
      "magners     1.24e-03    3.90e-04\n",
      "secondfiddle4.14e-04    4.33e-05\n",
      "priestland  8.28e-04    1.73e-04\n",
      "\n",
      "==========================================================\n",
      "Cluster 20: Largest mean parameters in cluster \n",
      "\n",
      "Word        Mean        Variance    \n",
      "unionnaxos  1.47e-03    1.94e-04\n",
      "airesis     1.47e-03    1.94e-04\n",
      "kamarotos   1.47e-03    1.94e-04\n",
      "mouzas      1.47e-03    1.94e-04\n",
      "kinissi     1.47e-03    1.94e-04\n",
      "\n",
      "==========================================================\n",
      "Cluster 21: Largest mean parameters in cluster \n",
      "\n",
      "Word        Mean        Variance    \n",
      "impartial   2.22e-04    8.26e-06\n",
      "lenient     2.22e-04    8.26e-06\n",
      "jovin       2.22e-04    8.26e-06\n",
      "sexoffender 2.22e-04    8.26e-06\n",
      "enumerated  2.22e-04    8.26e-06\n",
      "\n",
      "==========================================================\n",
      "Cluster 22: Largest mean parameters in cluster \n",
      "\n",
      "Word        Mean        Variance    \n",
      "brisbaneafter1.67e-03    1.93e-04\n",
      "morrell     8.36e-03    4.83e-03\n",
      "edflhe      1.67e-03    1.93e-04\n",
      "44game      1.67e-03    1.93e-04\n",
      "mckernan    1.67e-03    1.93e-04\n",
      "\n",
      "==========================================================\n",
      "Cluster 23: Largest mean parameters in cluster \n",
      "\n",
      "Word        Mean        Variance    \n",
      "melatonin   1.35e-03    6.23e-04\n",
      "ohsu        2.70e-04    2.49e-05\n",
      "lag         2.70e-04    2.49e-05\n",
      "maladaptation2.70e-04    2.49e-05\n",
      "phasedelay  2.70e-04    2.49e-05\n",
      "\n",
      "==========================================================\n",
      "Cluster 24: Largest mean parameters in cluster \n",
      "\n",
      "Word        Mean        Variance    \n",
      "nondrafted  5.74e-04    5.66e-05\n",
      "appearancereece5.74e-04    5.66e-05\n",
      "kgreece     5.74e-04    5.66e-05\n",
      "672         5.74e-04    5.66e-05\n",
      "niekro      4.05e-03    2.18e-03\n",
      "\n",
      "==========================================================\n"
     ]
    }
   ],
   "source": [
    "'''By EM'''\n",
    "visualize_EM_clusters(tf_idf, out['means'], out['covs'], map_index_to_word)"
   ]
  },
  {
   "cell_type": "markdown",
   "metadata": {},
   "source": [
    "**Quiz Question**. Select all the topics that have a cluster in the model created above. [multiple choice]"
   ]
  },
  {
   "cell_type": "markdown",
   "metadata": {},
   "source": [
    "## Comparing to random initialization"
   ]
  },
  {
   "cell_type": "markdown",
   "metadata": {
    "collapsed": false
   },
   "source": [
    "Create variables for randomly initializing the EM algorithm. Complete the following code block."
   ]
  },
  {
   "cell_type": "code",
   "execution_count": 137,
   "metadata": {
    "collapsed": false
   },
   "outputs": [],
   "source": [
    "np.random.seed(5) # See the note below to see why we set seed=5.\n",
    "num_clusters = len(means)\n",
    "num_docs, num_words = tf_idf.shape\n",
    "\n",
    "random_means = []\n",
    "random_covs = []\n",
    "random_weights = []\n",
    "\n",
    "for k in range(num_clusters):\n",
    "    \n",
    "    # Create a numpy array of length num_words with random normally distributed values.\n",
    "    # Use the standard univariate normal distribution (mean 0, variance 1).\n",
    "    # YOUR CODE HERE\n",
    "    mean = np.random.normal(0, 1, num_words)\n",
    "    \n",
    "    # Create a numpy array of length num_words with random values uniformly distributed between 1 and 5.\n",
    "    # YOUR CODE HERE\n",
    "    cov = np.random.uniform(1, 5, num_words)\n",
    "\n",
    "    # Initially give each cluster equal weight.\n",
    "    # YOUR CODE HERE\n",
    "    weight = 1./num_clusters\n",
    "    \n",
    "    random_means.append(mean)\n",
    "    random_covs.append(cov)\n",
    "    random_weights.append(weight)"
   ]
  },
  {
   "cell_type": "markdown",
   "metadata": {},
   "source": [
    "**Quiz Question**: Try fitting EM with the random initial parameters you created above. (Use `cov_smoothing=1e-5`.) Store the result to `out_random_init`. What is the final loglikelihood that the algorithm converges to? "
   ]
  },
  {
   "cell_type": "code",
   "execution_count": 139,
   "metadata": {
    "collapsed": false
   },
   "outputs": [],
   "source": [
    "out_random_init = EM_for_high_dimension(tf_idf, random_means, random_covs, random_weights, cov_smoothing=1e-5)"
   ]
  },
  {
   "cell_type": "markdown",
   "metadata": {},
   "source": [
    "**Quiz Question:** Is the final loglikelihood larger or smaller than the final loglikelihood we obtained above when initializing EM with the results from running k-means?"
   ]
  },
  {
   "cell_type": "code",
   "execution_count": 141,
   "metadata": {
    "collapsed": false
   },
   "outputs": [
    {
     "name": "stdout",
     "output_type": "stream",
     "text": [
      "[-764085987.57300639, 2282866699.1732855, 2362585588.3564939, 2362875609.1670547, 2362875609.1670547] [3855847476.7012835, 4844053202.46348, 4844053202.46348]\n"
     ]
    }
   ],
   "source": [
    "print out_random_init['loglik'],out['loglik']"
   ]
  },
  {
   "cell_type": "markdown",
   "metadata": {},
   "source": [
    "**Quiz Question**: For the above model, `out_random_init`, use the `visualize_EM_clusters` method you created above. Are the clusters more or less interpretable than the ones found after initializing using k-means?"
   ]
  },
  {
   "cell_type": "code",
   "execution_count": 144,
   "metadata": {
    "collapsed": false
   },
   "outputs": [
    {
     "name": "stdout",
     "output_type": "stream",
     "text": [
      "\n",
      "==========================================================\n",
      "Cluster 0: Largest mean parameters in cluster \n",
      "\n",
      "Word        Mean        Variance    \n",
      "bodieschernushenko0.00e+00    1.00e-05\n",
      "2013chernushenko0.00e+00    1.00e-05\n",
      "chernushenko0.00e+00    1.00e-05\n",
      "practicesfrom0.00e+00    1.00e-05\n",
      "6766        0.00e+00    1.00e-05\n",
      "\n",
      "==========================================================\n",
      "Cluster 1: Largest mean parameters in cluster \n",
      "\n",
      "Word        Mean        Variance    \n",
      "subcultures 0.00e+00    1.00e-05\n",
      "joerg       0.00e+00    1.00e-05\n",
      "84minute    0.00e+00    1.00e-05\n",
      "designerartist0.00e+00    1.00e-05\n",
      "steineck    0.00e+00    1.00e-05\n",
      "\n",
      "==========================================================\n",
      "Cluster 2: Largest mean parameters in cluster \n",
      "\n",
      "Word        Mean        Variance    \n",
      "galeras     0.00e+00    1.00e-05\n",
      "rouxs       0.00e+00    1.00e-05\n",
      "nonnis      0.00e+00    1.00e-05\n",
      "frescoes    0.00e+00    1.00e-05\n",
      "konex       0.00e+00    1.00e-05\n",
      "\n",
      "==========================================================\n",
      "Cluster 3: Largest mean parameters in cluster \n",
      "\n",
      "Word        Mean        Variance    \n",
      "tripleteamed0.00e+00    1.00e-05\n",
      "696         0.00e+00    1.00e-05\n",
      "razzledazzle0.00e+00    1.00e-05\n",
      "wlbill      0.00e+00    1.00e-05\n",
      "696for954   0.00e+00    1.00e-05\n",
      "\n",
      "==========================================================\n",
      "Cluster 4: Largest mean parameters in cluster \n",
      "\n",
      "Word        Mean        Variance    \n",
      "uke         0.00e+00    1.00e-05\n",
      "toiling     0.00e+00    1.00e-05\n",
      "offensiverich0.00e+00    1.00e-05\n",
      "coaching4   0.00e+00    1.00e-05\n",
      "bucyk       0.00e+00    1.00e-05\n",
      "\n",
      "==========================================================\n",
      "Cluster 5: Largest mean parameters in cluster \n",
      "\n",
      "Word        Mean        Variance    \n",
      "emineth     0.00e+00    1.00e-05\n",
      "beltway     0.00e+00    1.00e-05\n",
      "6925        0.00e+00    1.00e-05\n",
      "marginin    0.00e+00    1.00e-05\n",
      "distracted  0.00e+00    1.00e-05\n",
      "\n",
      "==========================================================\n",
      "Cluster 6: Largest mean parameters in cluster \n",
      "\n",
      "Word        Mean        Variance    \n",
      "americanfrench0.00e+00    1.00e-05\n",
      "clowning    0.00e+00    1.00e-05\n",
      "kominskycrumbcrumb0.00e+00    1.00e-05\n",
      "nameafter   0.00e+00    1.00e-05\n",
      "sauve       0.00e+00    1.00e-05\n",
      "\n",
      "==========================================================\n",
      "Cluster 7: Largest mean parameters in cluster \n",
      "\n",
      "Word        Mean        Variance    \n",
      "pointtopoint0.00e+00    1.00e-05\n",
      "20538       0.00e+00    1.00e-05\n",
      "inoa        0.00e+00    1.00e-05\n",
      "soreness    0.00e+00    1.00e-05\n",
      "khannouchi  0.00e+00    1.00e-05\n",
      "\n",
      "==========================================================\n",
      "Cluster 8: Largest mean parameters in cluster \n",
      "\n",
      "Word        Mean        Variance    \n",
      "zelazny     0.00e+00    1.00e-05\n",
      "fantasticrottensteiner0.00e+00    1.00e-05\n",
      "apek        0.00e+00    1.00e-05\n",
      "stanislaw   0.00e+00    1.00e-05\n",
      "kobo        0.00e+00    1.00e-05\n",
      "\n",
      "==========================================================\n",
      "Cluster 9: Largest mean parameters in cluster \n",
      "\n",
      "Word        Mean        Variance    \n",
      "stines      0.00e+00    1.00e-05\n",
      "cyberbully  0.00e+00    1.00e-05\n",
      "lovesick    0.00e+00    1.00e-05\n",
      "musso       0.00e+00    1.00e-05\n",
      "crackle     0.00e+00    1.00e-05\n",
      "\n",
      "==========================================================\n",
      "Cluster 10: Largest mean parameters in cluster \n",
      "\n",
      "Word        Mean        Variance    \n",
      "forwardwoolfolk0.00e+00    1.00e-05\n",
      "riverhounds 0.00e+00    1.00e-05\n",
      "woolfolk    0.00e+00    1.00e-05\n",
      "silverbacks 0.00e+00    1.00e-05\n",
      "nscaa       0.00e+00    1.00e-05\n",
      "\n",
      "==========================================================\n",
      "Cluster 11: Largest mean parameters in cluster \n",
      "\n",
      "Word        Mean        Variance    \n",
      "lordshe     0.00e+00    1.00e-05\n",
      "8595gueterbock0.00e+00    1.00e-05\n",
      "hillingdon  0.00e+00    1.00e-05\n",
      "fitzhardinge0.00e+00    1.00e-05\n",
      "wimpey      0.00e+00    1.00e-05\n",
      "\n",
      "==========================================================\n",
      "Cluster 12: Largest mean parameters in cluster \n",
      "\n",
      "Word        Mean        Variance    \n",
      "diethe      0.00e+00    1.00e-05\n",
      "veganpalooza0.00e+00    1.00e-05\n",
      "waterville  0.00e+00    1.00e-05\n",
      "prussack    0.00e+00    1.00e-05\n",
      "1115        0.00e+00    1.00e-05\n",
      "\n",
      "==========================================================\n",
      "Cluster 13: Largest mean parameters in cluster \n",
      "\n",
      "Word        Mean        Variance    \n",
      "perceiving  0.00e+00    1.00e-05\n",
      "caruths     0.00e+00    1.00e-05\n",
      "conceptualizing0.00e+00    1.00e-05\n",
      "wordsworth  0.00e+00    1.00e-05\n",
      "deborash    0.00e+00    1.00e-05\n",
      "\n",
      "==========================================================\n",
      "Cluster 14: Largest mean parameters in cluster \n",
      "\n",
      "Word        Mean        Variance    \n",
      "angelsother 0.00e+00    1.00e-05\n",
      "catweazle   0.00e+00    1.00e-05\n",
      "hardcastles 0.00e+00    1.00e-05\n",
      "caseyin     0.00e+00    1.00e-05\n",
      "bolant      0.00e+00    1.00e-05\n",
      "\n",
      "==========================================================\n",
      "Cluster 15: Largest mean parameters in cluster \n",
      "\n",
      "Word        Mean        Variance    \n",
      "holger      5.90e-04    8.49e-05\n",
      "gutsy       5.90e-04    8.49e-05\n",
      "germanyover 5.90e-04    8.49e-05\n",
      "bluesgospel 5.90e-04    8.49e-05\n",
      "harpdog     1.18e-03    3.10e-04\n",
      "\n",
      "==========================================================\n",
      "Cluster 16: Largest mean parameters in cluster \n",
      "\n",
      "Word        Mean        Variance    \n",
      "pickjacobson0.00e+00    1.00e-05\n",
      "fivefoot    0.00e+00    1.00e-05\n",
      "playoffjacobson0.00e+00    1.00e-05\n",
      "wgchsbc     0.00e+00    1.00e-05\n",
      "swede       0.00e+00    1.00e-05\n",
      "\n",
      "==========================================================\n",
      "Cluster 17: Largest mean parameters in cluster \n",
      "\n",
      "Word        Mean        Variance    \n",
      "burnet      0.00e+00    1.00e-05\n",
      "wellfounded 0.00e+00    1.00e-05\n",
      "expressgoldring0.00e+00    1.00e-05\n",
      "goldring    0.00e+00    1.00e-05\n",
      "currentaffairs0.00e+00    1.00e-05\n",
      "\n",
      "==========================================================\n",
      "Cluster 18: Largest mean parameters in cluster \n",
      "\n",
      "Word        Mean        Variance    \n",
      "dunnes      0.00e+00    1.00e-05\n",
      "agonising   0.00e+00    1.00e-05\n",
      "1953called  0.00e+00    1.00e-05\n",
      "laoishe     0.00e+00    1.00e-05\n",
      "1950swith   0.00e+00    1.00e-05\n",
      "\n",
      "==========================================================\n",
      "Cluster 19: Largest mean parameters in cluster \n",
      "\n",
      "Word        Mean        Variance    \n",
      "ceiron      0.00e+00    1.00e-05\n",
      "pointsthomas0.00e+00    1.00e-05\n",
      "magners     0.00e+00    1.00e-05\n",
      "secondfiddle0.00e+00    1.00e-05\n",
      "priestland  0.00e+00    1.00e-05\n",
      "\n",
      "==========================================================\n",
      "Cluster 20: Largest mean parameters in cluster \n",
      "\n",
      "Word        Mean        Variance    \n",
      "unionnaxos  0.00e+00    1.00e-05\n",
      "airesis     0.00e+00    1.00e-05\n",
      "kamarotos   0.00e+00    1.00e-05\n",
      "mouzas      0.00e+00    1.00e-05\n",
      "kinissi     0.00e+00    1.00e-05\n",
      "\n",
      "==========================================================\n",
      "Cluster 21: Largest mean parameters in cluster \n",
      "\n",
      "Word        Mean        Variance    \n",
      "impartial   0.00e+00    1.00e-05\n",
      "lenient     0.00e+00    1.00e-05\n",
      "jovin       0.00e+00    1.00e-05\n",
      "sexoffender 0.00e+00    1.00e-05\n",
      "enumerated  0.00e+00    1.00e-05\n",
      "\n",
      "==========================================================\n",
      "Cluster 22: Largest mean parameters in cluster \n",
      "\n",
      "Word        Mean        Variance    \n",
      "brisbaneafter0.00e+00    1.00e-05\n",
      "morrell     0.00e+00    1.00e-05\n",
      "edflhe      0.00e+00    1.00e-05\n",
      "44game      0.00e+00    1.00e-05\n",
      "mckernan    0.00e+00    1.00e-05\n",
      "\n",
      "==========================================================\n",
      "Cluster 23: Largest mean parameters in cluster \n",
      "\n",
      "Word        Mean        Variance    \n",
      "melatonin   0.00e+00    1.00e-05\n",
      "ohsu        0.00e+00    1.00e-05\n",
      "lag         0.00e+00    1.00e-05\n",
      "maladaptation0.00e+00    1.00e-05\n",
      "phasedelay  0.00e+00    1.00e-05\n",
      "\n",
      "==========================================================\n",
      "Cluster 24: Largest mean parameters in cluster \n",
      "\n",
      "Word        Mean        Variance    \n",
      "nondrafted  0.00e+00    1.00e-05\n",
      "appearancereece0.00e+00    1.00e-05\n",
      "kgreece     0.00e+00    1.00e-05\n",
      "672         0.00e+00    1.00e-05\n",
      "niekro      0.00e+00    1.00e-05\n",
      "\n",
      "==========================================================\n"
     ]
    }
   ],
   "source": [
    "# YOUR CODE HERE. Use visualize_EM_clusters, which will require you to pass in tf_idf and map_index_to_word.\n",
    "visualize_EM_clusters(tf_idf, out_random_init['means'], out_random_init['covs'], map_index_to_word)"
   ]
  },
  {
   "cell_type": "markdown",
   "metadata": {
    "collapsed": true
   },
   "source": [
    "**Note**: Random initialization may sometimes produce a superior fit than k-means initialization. We do not claim that random initialization is always worse. However, this section does illustrate that random initialization often produces much worse clustering than k-means counterpart. This is the reason why we provide the particular random seed (`np.random.seed(5)`)."
   ]
  },
  {
   "cell_type": "markdown",
   "metadata": {
    "collapsed": true
   },
   "source": [
    "## Takeaway\n",
    "\n",
    "In this assignment we were able to apply the EM algorithm to a mixture of Gaussians model of text data. This was made possible by modifying the model to assume a diagonal covariance for each cluster, and by modifying the implementation to use a sparse matrix representation. In the second part you explored the role of k-means initialization on the convergence of the model as well as the interpretability of the clusters."
   ]
  },
  {
   "cell_type": "code",
   "execution_count": null,
   "metadata": {
    "collapsed": true
   },
   "outputs": [],
   "source": []
  }
 ],
 "metadata": {
  "anaconda-cloud": {},
  "kernelspec": {
   "display_name": "Python 2",
   "language": "python",
   "name": "python2"
  },
  "language_info": {
   "codemirror_mode": {
    "name": "ipython",
    "version": 2
   },
   "file_extension": ".py",
   "mimetype": "text/x-python",
   "name": "python",
   "nbconvert_exporter": "python",
   "pygments_lexer": "ipython2",
   "version": "2.7.11"
  }
 },
 "nbformat": 4,
 "nbformat_minor": 0
}
